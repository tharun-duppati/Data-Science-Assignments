{
 "cells": [
  {
   "cell_type": "code",
   "execution_count": 5,
   "id": "a1ff7ee9-879c-4cbc-a4c5-5fbf39a56c08",
   "metadata": {},
   "outputs": [
    {
     "data": {
      "text/html": [
       "<div>\n",
       "<style scoped>\n",
       "    .dataframe tbody tr th:only-of-type {\n",
       "        vertical-align: middle;\n",
       "    }\n",
       "\n",
       "    .dataframe tbody tr th {\n",
       "        vertical-align: top;\n",
       "    }\n",
       "\n",
       "    .dataframe thead th {\n",
       "        text-align: right;\n",
       "    }\n",
       "</style>\n",
       "<table border=\"1\" class=\"dataframe\">\n",
       "  <thead>\n",
       "    <tr style=\"text-align: right;\">\n",
       "      <th></th>\n",
       "      <th>0</th>\n",
       "    </tr>\n",
       "  </thead>\n",
       "  <tbody>\n",
       "    <tr>\n",
       "      <th>0</th>\n",
       "      <td>shrimp,almonds,avocado,vegetables mix,green gr...</td>\n",
       "    </tr>\n",
       "    <tr>\n",
       "      <th>1</th>\n",
       "      <td>burgers,meatballs,eggs</td>\n",
       "    </tr>\n",
       "    <tr>\n",
       "      <th>2</th>\n",
       "      <td>chutney</td>\n",
       "    </tr>\n",
       "    <tr>\n",
       "      <th>3</th>\n",
       "      <td>turkey,avocado</td>\n",
       "    </tr>\n",
       "    <tr>\n",
       "      <th>4</th>\n",
       "      <td>mineral water,milk,energy bar,whole wheat rice...</td>\n",
       "    </tr>\n",
       "    <tr>\n",
       "      <th>...</th>\n",
       "      <td>...</td>\n",
       "    </tr>\n",
       "    <tr>\n",
       "      <th>7496</th>\n",
       "      <td>butter,light mayo,fresh bread</td>\n",
       "    </tr>\n",
       "    <tr>\n",
       "      <th>7497</th>\n",
       "      <td>burgers,frozen vegetables,eggs,french fries,ma...</td>\n",
       "    </tr>\n",
       "    <tr>\n",
       "      <th>7498</th>\n",
       "      <td>chicken</td>\n",
       "    </tr>\n",
       "    <tr>\n",
       "      <th>7499</th>\n",
       "      <td>escalope,green tea</td>\n",
       "    </tr>\n",
       "    <tr>\n",
       "      <th>7500</th>\n",
       "      <td>eggs,frozen smoothie,yogurt cake,low fat yogurt</td>\n",
       "    </tr>\n",
       "  </tbody>\n",
       "</table>\n",
       "<p>7501 rows × 1 columns</p>\n",
       "</div>"
      ],
      "text/plain": [
       "                                                      0\n",
       "0     shrimp,almonds,avocado,vegetables mix,green gr...\n",
       "1                                burgers,meatballs,eggs\n",
       "2                                               chutney\n",
       "3                                        turkey,avocado\n",
       "4     mineral water,milk,energy bar,whole wheat rice...\n",
       "...                                                 ...\n",
       "7496                      butter,light mayo,fresh bread\n",
       "7497  burgers,frozen vegetables,eggs,french fries,ma...\n",
       "7498                                            chicken\n",
       "7499                                 escalope,green tea\n",
       "7500    eggs,frozen smoothie,yogurt cake,low fat yogurt\n",
       "\n",
       "[7501 rows x 1 columns]"
      ]
     },
     "execution_count": 5,
     "metadata": {},
     "output_type": "execute_result"
    }
   ],
   "source": [
    "import pandas as pd\n",
    "df = pd.read_excel(\"D:\\\\ExcelR Assignments\\\\Assignment 10\\\\Online retail.xlsx\",sheet_name=\"Sheet1\",header=None)\n",
    "df"
   ]
  },
  {
   "cell_type": "code",
   "execution_count": 138,
   "id": "2e4e4368-db90-4b7c-bc0a-980f7ee09cfa",
   "metadata": {},
   "outputs": [
    {
     "data": {
      "text/plain": [
       "0    0\n",
       "dtype: int64"
      ]
     },
     "execution_count": 138,
     "metadata": {},
     "output_type": "execute_result"
    }
   ],
   "source": [
    "df.isnull().sum() "
   ]
  },
  {
   "cell_type": "code",
   "execution_count": 140,
   "id": "2ed68ba0-5c4f-4ade-8f42-9f3d9b6b5f7e",
   "metadata": {},
   "outputs": [],
   "source": [
    "# There are know missing values in the data"
   ]
  },
  {
   "cell_type": "code",
   "execution_count": 9,
   "id": "8d2cab82-943c-4f9d-a23e-8f7af0f24542",
   "metadata": {},
   "outputs": [
    {
     "data": {
      "text/plain": [
       "(7501, 1)"
      ]
     },
     "execution_count": 9,
     "metadata": {},
     "output_type": "execute_result"
    }
   ],
   "source": [
    "df.shape"
   ]
  },
  {
   "cell_type": "code",
   "execution_count": 21,
   "id": "d462c279-7d56-4a8e-8476-df0510a2882b",
   "metadata": {},
   "outputs": [
    {
     "data": {
      "text/plain": [
       "['shrimp',\n",
       " 'almonds',\n",
       " 'avocado',\n",
       " 'vegetables mix',\n",
       " 'green grapes',\n",
       " 'whole weat flour',\n",
       " 'yams',\n",
       " 'cottage cheese',\n",
       " 'energy drink',\n",
       " 'tomato juice',\n",
       " 'low fat yogurt',\n",
       " 'green tea',\n",
       " 'honey',\n",
       " 'salad',\n",
       " 'mineral water',\n",
       " 'salmon',\n",
       " 'antioxydant juice',\n",
       " 'frozen smoothie',\n",
       " 'spinach',\n",
       " 'olive oil']"
      ]
     },
     "execution_count": 21,
     "metadata": {},
     "output_type": "execute_result"
    }
   ],
   "source": [
    "transactions = df.iloc[:, 0].str.split(',')\n",
    "transactions[0]"
   ]
  },
  {
   "cell_type": "code",
   "execution_count": 128,
   "id": "dfbd4c9e-6071-4c05-90ae-9865a7bee943",
   "metadata": {},
   "outputs": [],
   "source": [
    "from apyori import apriori\n",
    "\n",
    "rules = apriori(transactions, min_support=0.01, min_confidence=0.2, min_lift=3)"
   ]
  },
  {
   "cell_type": "code",
   "execution_count": 130,
   "id": "e006d7ad-e792-4cdb-a9b8-b7ff0a4cac08",
   "metadata": {},
   "outputs": [],
   "source": [
    "# Print the results\n",
    "results = list(rules)"
   ]
  },
  {
   "cell_type": "code",
   "execution_count": 132,
   "id": "c891e7d0-a682-43ef-ad3c-5083f7ceda94",
   "metadata": {},
   "outputs": [
    {
     "data": {
      "text/plain": [
       "1"
      ]
     },
     "execution_count": 132,
     "metadata": {},
     "output_type": "execute_result"
    }
   ],
   "source": [
    "len(results)"
   ]
  },
  {
   "cell_type": "code",
   "execution_count": 134,
   "id": "9bd5b47a-61f7-4087-b72d-dab1197e16ad",
   "metadata": {},
   "outputs": [
    {
     "data": {
      "text/plain": [
       "RelationRecord(items=frozenset({'ground beef', 'herb & pepper'}), support=0.015997866951073192, ordered_statistics=[OrderedStatistic(items_base=frozenset({'herb & pepper'}), items_add=frozenset({'ground beef'}), confidence=0.3234501347708895, lift=3.2919938411349285)])"
      ]
     },
     "execution_count": 134,
     "metadata": {},
     "output_type": "execute_result"
    }
   ],
   "source": [
    "results[0]"
   ]
  },
  {
   "cell_type": "code",
   "execution_count": 136,
   "id": "421ff9ae-e603-4039-9cf9-efc5d81ab196",
   "metadata": {},
   "outputs": [
    {
     "name": "stdout",
     "output_type": "stream",
     "text": [
      "support: 0.015997866951073192\n",
      "base item: frozenset({'herb & pepper'})\n",
      "add item: frozenset({'ground beef'})\n",
      "confidence: 0.3234501347708895\n",
      "lift: 3.2919938411349285\n"
     ]
    }
   ],
   "source": [
    "print(\"support:\",results[0][1])\n",
    "print(\"base item:\",results[0][2][0][0])\n",
    "print(\"add item:\",results[0][2][0][1])\n",
    "print(\"confidence:\",results[0][2][0][2])\n",
    "print(\"lift:\",results[0][2][0][3])"
   ]
  },
  {
   "cell_type": "code",
   "execution_count": null,
   "id": "dc1e404a-941f-4f52-b196-22651f68fcb0",
   "metadata": {},
   "outputs": [],
   "source": [
    "'''\n",
    "Key Observations and Insights:\n",
    "  Support (~1.6%):\n",
    "      This rule applies to approximately 1.6% of all transactions, which suggests that while this combination isn’t extremely common, \n",
    "      it is still a relevant segment of customers.\n",
    "\n",
    "  Confidence (32.35%):\n",
    "      Out of all transactions where Herb & Pepper was purchased, about 32.35% also included Ground Beef.\n",
    "      This demonstrates a moderate likelihood that customers who purchase Herb & Pepper tend to buy Ground Beef together.\n",
    "  \n",
    "   Lift (3.29):\n",
    "      The lift value of 3.29 indicates that the likelihood of purchasing Ground Beef increases by over three times ,\n",
    "      when Herb & Pepper is already in the cart.\n",
    "      A lift significantly greater than 1 shows a strong positive association between these items.\n",
    "\n",
    "-The strong association between Herb & Pepper and Ground Beef suggests these products are often used together,\n",
    " likely in seasoned meat recipes \n",
    "\n",
    "-Business Recommendation:\n",
    "      -Offer bundled discounts for purchasing Herb & Pepper with Ground Beef.\n",
    "      -In physical stores, place Herb & Pepper in close proximity to Ground Beef in the meat section.\n",
    "      -In online stores, suggest Ground Beef as a recommended item when a customer adds Herb & Pepper to their cart.\n",
    "\n",
    "'''"
   ]
  },
  {
   "cell_type": "markdown",
   "id": "670c71b4-8595-4c23-b1ff-75ec6785b2c0",
   "metadata": {},
   "source": [
    "Interview Questions :"
   ]
  },
  {
   "cell_type": "code",
   "execution_count": null,
   "id": "d47c5580-ef77-4e08-86e2-c1d9b2b9306f",
   "metadata": {},
   "outputs": [],
   "source": [
    "'''\n",
    "1. What is lift and why is it important in association rules ? \n",
    "Lift is a metric used in association rule mining to measure the strength of a rule compared to random chance. \n",
    "It quantifies how much more likely the occurrence of the consequent (e.g., Y) is when the antecedent (e.g., X) is present, \n",
    "relative to their independent probabilities. Mathematically, \n",
    "A lift greater than 1 indicates a positive association (X and Y occur together more often than expected),\n",
    "while a lift less than 1 suggests a negative association. Lift is crucial for identifying meaningful relationships in large datasets.\n",
    "\n",
    "2.What is support and confidence. How do you calculate them? \n",
    "Support: It measures how frequently an itemset appears in the dataset. Calculated as:\n",
    "    Support(X) = Number of transactions containing X / Total number of transactions\n",
    "High support indicates the rule is relevant to many transactions.\n",
    "Confidence: It quantifies the likelihood of the consequent (Y) occurring given the antecedent (X). Calculated as:\n",
    "    Confidence(X→Y) = Support(X) / Support(X∩Y)\n",
    "High confidence means the rule is reliable. Together, these metrics help identify strong and frequent associations in datasets.\n",
    "\n",
    "3.What are some limitations or challenges of Association rules mining? \n",
    "Association rule mining faces several challenges and limitations:\n",
    "Large Search Space: Generating all possible rules can be computationally expensive for large datasets.\n",
    "Relevance Filtering: Many generated rules may be trivial or irrelevant, requiring additional filtering.\n",
    "Sparse Data: In sparse datasets, meaningful patterns can be hard to identify.\n",
    "Overfitting: Rules may capture noise or specific patterns that don't generalize well.\n",
    "Subjectivity: Deciding thresholds for support, confidence, and lift is often subjective.\n",
    "Lack of Context: Association rules lack causal inference, so they only show correlations, not causation.\n",
    "Scalability: Performance may degrade with increasing dataset size or complexity.\n",
    "'''"
   ]
  }
 ],
 "metadata": {
  "kernelspec": {
   "display_name": "Python 3 (ipykernel)",
   "language": "python",
   "name": "python3"
  },
  "language_info": {
   "codemirror_mode": {
    "name": "ipython",
    "version": 3
   },
   "file_extension": ".py",
   "mimetype": "text/x-python",
   "name": "python",
   "nbconvert_exporter": "python",
   "pygments_lexer": "ipython3",
   "version": "3.11.5"
  }
 },
 "nbformat": 4,
 "nbformat_minor": 5
}
