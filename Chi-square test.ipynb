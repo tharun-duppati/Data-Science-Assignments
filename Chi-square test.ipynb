{
 "cells": [
  {
   "cell_type": "code",
   "execution_count": null,
   "id": "c5694f6c-8d47-4f59-a570-bbd45e61dd11",
   "metadata": {},
   "outputs": [],
   "source": [
    "'''\n",
    "Null Hypothesis (H₀): There is no association between the type of smart home device and customer satisfaction.\n",
    "Alternative Hypothesis (H₁): There is an association between the type of smart home device and customer satisfaction\n",
    "'''"
   ]
  },
  {
   "cell_type": "code",
   "execution_count": null,
   "id": "856c802e-c1df-4178-a286-c26bf7973626",
   "metadata": {},
   "outputs": [],
   "source": [
    "'''\n",
    "We will use the Chi-Square distribution table to find the critical value. \n",
    "The degrees of freedom for a contingency table is calculated as:\n",
    "Degrees of Freedom = (Number of Rows - 1) * (Number of Columns - 1)\n",
    "In this case, the degrees of freedom are (5-1) * (2-1) = 4.\n",
    "Using a significance level (α) of 0.05 and 4 degrees of freedom, \n",
    "the critical value from the Chi-Square distribution table is 9.488\n",
    "'''"
   ]
  },
  {
   "cell_type": "code",
   "execution_count": 1,
   "id": "d3cfd857-e809-4f37-8c69-d5742a3c943e",
   "metadata": {},
   "outputs": [
    {
     "name": "stdout",
     "output_type": "stream",
     "text": [
      "Chi-Square Statistic: 5.638227513227513\n",
      "P-value: 0.22784371130697179\n",
      "Decision: Fail to reject the null hypothesis. There is no significant association between device type and customer satisfaction.\n"
     ]
    }
   ],
   "source": [
    "import scipy.stats as stats\n",
    "\n",
    "# Observed frequencies (replace with your actual data)\n",
    "observed = [[50, 70], [80, 100], [60, 90], [30, 50], [20, 50]]\n",
    "\n",
    "# Perform the Chi-Square test\n",
    "chi2, p_value, _, _ = stats.chi2_contingency(observed)\n",
    "\n",
    "print(\"Chi-Square Statistic:\", chi2)\n",
    "print(\"P-value:\", p_value)\n",
    "\n",
    "# Compare p-value with alpha\n",
    "if p_value < 0.05:\n",
    "    print(\"Decision: Reject the null hypothesis. There is a significant association between device type and customer satisfaction.\")\n",
    "else:\n",
    "    print(\"Decision: Fail to reject the null hypothesis. There is no significant association between device type and customer satisfaction.\")"
   ]
  },
  {
   "cell_type": "code",
   "execution_count": null,
   "id": "5c9476b5-b76f-487b-8c15-e7f671e2dfef",
   "metadata": {},
   "outputs": [],
   "source": []
  }
 ],
 "metadata": {
  "kernelspec": {
   "display_name": "Python 3 (ipykernel)",
   "language": "python",
   "name": "python3"
  },
  "language_info": {
   "codemirror_mode": {
    "name": "ipython",
    "version": 3
   },
   "file_extension": ".py",
   "mimetype": "text/x-python",
   "name": "python",
   "nbconvert_exporter": "python",
   "pygments_lexer": "ipython3",
   "version": "3.11.5"
  }
 },
 "nbformat": 4,
 "nbformat_minor": 5
}
