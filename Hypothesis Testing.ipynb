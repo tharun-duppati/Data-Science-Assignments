{
 "cells": [
  {
   "cell_type": "markdown",
   "id": "496df674-b8ab-4e2b-9974-3f27d7846805",
   "metadata": {},
   "source": [
    "HYPOTHESIS TESTING:"
   ]
  },
  {
   "cell_type": "code",
   "execution_count": null,
   "id": "ed777ee0-d101-443e-8032-328df91efaea",
   "metadata": {},
   "outputs": [],
   "source": [
    "'''\n",
    " Null Hypothesis (H₀): The mean weekly operating cost is equal to the theoretical cost.\n",
    " Alternative Hypothesis (H₁): The mean weekly operating cost is greater than the theoretical cost.\n",
    "'''"
   ]
  },
  {
   "cell_type": "code",
   "execution_count": 3,
   "id": "fbe3970d-1da3-4c64-afb0-10d004dc5c40",
   "metadata": {},
   "outputs": [
    {
     "name": "stdout",
     "output_type": "stream",
     "text": [
      "The calculated t-statistic is: -38.0\n"
     ]
    }
   ],
   "source": [
    "import numpy as np\n",
    "\n",
    "# Given data\n",
    "sample_mean = 3050\n",
    "theoretical_mean = 1000 + 5 * 600\n",
    "standard_deviation = 5 * 25\n",
    "sample_size = 25\n",
    "\n",
    "# Calculate the test statistic (t)\n",
    "t_statistic = (sample_mean - theoretical_mean) / (standard_deviation / np.sqrt(sample_size))\n",
    "\n",
    "print(\"The calculated t-statistic is:\", t_statistic)"
   ]
  },
  {
   "cell_type": "code",
   "execution_count": null,
   "id": "5f9f5110-a59d-4c19-a08c-4feb2c217576",
   "metadata": {},
   "outputs": [],
   "source": [
    "'''\n",
    "Determining the Critical Value:\n",
    "   Since we are conducting a one-tailed test with α = 0.05, we need to find the Z-score corresponding to the 95th percentile. Using a Z-table, \n",
    "   we find the critical value to be approximately 1.645.\n",
    "'''"
   ]
  },
  {
   "cell_type": "code",
   "execution_count": 7,
   "id": "e1fc945b-0f30-494d-8f3f-2944f60b9e55",
   "metadata": {},
   "outputs": [
    {
     "name": "stdout",
     "output_type": "stream",
     "text": [
      "Fail to reject the null hypothesis. There is not enough evidence to support the restaurant owners' claim.\n"
     ]
    }
   ],
   "source": [
    "import numpy as np\n",
    "\n",
    "# Calculate the t-value\n",
    "t_value = (3050 - 4000) / (125 / np.sqrt(25))\n",
    "\n",
    "# Compare t-value with critical value\n",
    "if t_value > 1.645:\n",
    "  print(\"Reject the null hypothesis. There is strong evidence to support the restaurant owners' claim.\")\n",
    "else:\n",
    "  print(\"Fail to reject the null hypothesis. There is not enough evidence to support the restaurant owners' claim.\")"
   ]
  },
  {
   "cell_type": "code",
   "execution_count": null,
   "id": "4f798131-0cb5-41ee-a812-b88e601a2e8b",
   "metadata": {},
   "outputs": [],
   "source": [
    "'''\n",
    "Conclusion:\n",
    "Based on the calculated t-value and the critical value, we can make a decision. \n",
    "In this case, the calculated t-value is less than the critical value, so we fail to reject the null hypothesis. \n",
    "There is not enough evidence to support the restaurant \n",
    "owners' claim that the weekly operating costs are higher than the model suggests\n",
    "'''"
   ]
  }
 ],
 "metadata": {
  "kernelspec": {
   "display_name": "Python 3 (ipykernel)",
   "language": "python",
   "name": "python3"
  },
  "language_info": {
   "codemirror_mode": {
    "name": "ipython",
    "version": 3
   },
   "file_extension": ".py",
   "mimetype": "text/x-python",
   "name": "python",
   "nbconvert_exporter": "python",
   "pygments_lexer": "ipython3",
   "version": "3.11.5"
  }
 },
 "nbformat": 4,
 "nbformat_minor": 5
}
