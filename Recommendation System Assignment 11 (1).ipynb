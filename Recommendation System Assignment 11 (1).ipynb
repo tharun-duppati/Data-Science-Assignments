{
 "cells": [
  {
   "cell_type": "code",
   "execution_count": 99,
   "id": "341497b6-ba51-4223-a4b5-e42bf2e25710",
   "metadata": {},
   "outputs": [],
   "source": [
    "import pandas as pd\n",
    "import numpy as np"
   ]
  },
  {
   "cell_type": "code",
   "execution_count": 145,
   "id": "559df205-7575-452f-9048-664d42582e37",
   "metadata": {},
   "outputs": [
    {
     "data": {
      "text/plain": [
       "(12294, 7)"
      ]
     },
     "execution_count": 145,
     "metadata": {},
     "output_type": "execute_result"
    }
   ],
   "source": [
    "df = pd.read_csv('D:\\\\ExcelR Assignments\\\\Assignment 11\\\\anime.csv')\n",
    "df.shape"
   ]
  },
  {
   "cell_type": "code",
   "execution_count": 147,
   "id": "2f671cc6-a9b0-42ce-a733-4899773a25e3",
   "metadata": {},
   "outputs": [
    {
     "data": {
      "text/html": [
       "<div>\n",
       "<style scoped>\n",
       "    .dataframe tbody tr th:only-of-type {\n",
       "        vertical-align: middle;\n",
       "    }\n",
       "\n",
       "    .dataframe tbody tr th {\n",
       "        vertical-align: top;\n",
       "    }\n",
       "\n",
       "    .dataframe thead th {\n",
       "        text-align: right;\n",
       "    }\n",
       "</style>\n",
       "<table border=\"1\" class=\"dataframe\">\n",
       "  <thead>\n",
       "    <tr style=\"text-align: right;\">\n",
       "      <th></th>\n",
       "      <th>anime_id</th>\n",
       "      <th>name</th>\n",
       "      <th>genre</th>\n",
       "      <th>type</th>\n",
       "      <th>episodes</th>\n",
       "      <th>rating</th>\n",
       "      <th>members</th>\n",
       "    </tr>\n",
       "  </thead>\n",
       "  <tbody>\n",
       "    <tr>\n",
       "      <th>0</th>\n",
       "      <td>32281</td>\n",
       "      <td>Kimi no Na wa.</td>\n",
       "      <td>Drama, Romance, School, Supernatural</td>\n",
       "      <td>Movie</td>\n",
       "      <td>1</td>\n",
       "      <td>9.37</td>\n",
       "      <td>200630</td>\n",
       "    </tr>\n",
       "    <tr>\n",
       "      <th>1</th>\n",
       "      <td>5114</td>\n",
       "      <td>Fullmetal Alchemist: Brotherhood</td>\n",
       "      <td>Action, Adventure, Drama, Fantasy, Magic, Mili...</td>\n",
       "      <td>TV</td>\n",
       "      <td>64</td>\n",
       "      <td>9.26</td>\n",
       "      <td>793665</td>\n",
       "    </tr>\n",
       "    <tr>\n",
       "      <th>2</th>\n",
       "      <td>28977</td>\n",
       "      <td>Gintama°</td>\n",
       "      <td>Action, Comedy, Historical, Parody, Samurai, S...</td>\n",
       "      <td>TV</td>\n",
       "      <td>51</td>\n",
       "      <td>9.25</td>\n",
       "      <td>114262</td>\n",
       "    </tr>\n",
       "    <tr>\n",
       "      <th>3</th>\n",
       "      <td>9253</td>\n",
       "      <td>Steins;Gate</td>\n",
       "      <td>Sci-Fi, Thriller</td>\n",
       "      <td>TV</td>\n",
       "      <td>24</td>\n",
       "      <td>9.17</td>\n",
       "      <td>673572</td>\n",
       "    </tr>\n",
       "    <tr>\n",
       "      <th>4</th>\n",
       "      <td>9969</td>\n",
       "      <td>Gintama&amp;#039;</td>\n",
       "      <td>Action, Comedy, Historical, Parody, Samurai, S...</td>\n",
       "      <td>TV</td>\n",
       "      <td>51</td>\n",
       "      <td>9.16</td>\n",
       "      <td>151266</td>\n",
       "    </tr>\n",
       "  </tbody>\n",
       "</table>\n",
       "</div>"
      ],
      "text/plain": [
       "   anime_id                              name  \\\n",
       "0     32281                    Kimi no Na wa.   \n",
       "1      5114  Fullmetal Alchemist: Brotherhood   \n",
       "2     28977                          Gintama°   \n",
       "3      9253                       Steins;Gate   \n",
       "4      9969                     Gintama&#039;   \n",
       "\n",
       "                                               genre   type episodes  rating  \\\n",
       "0               Drama, Romance, School, Supernatural  Movie        1    9.37   \n",
       "1  Action, Adventure, Drama, Fantasy, Magic, Mili...     TV       64    9.26   \n",
       "2  Action, Comedy, Historical, Parody, Samurai, S...     TV       51    9.25   \n",
       "3                                   Sci-Fi, Thriller     TV       24    9.17   \n",
       "4  Action, Comedy, Historical, Parody, Samurai, S...     TV       51    9.16   \n",
       "\n",
       "   members  \n",
       "0   200630  \n",
       "1   793665  \n",
       "2   114262  \n",
       "3   673572  \n",
       "4   151266  "
      ]
     },
     "execution_count": 147,
     "metadata": {},
     "output_type": "execute_result"
    }
   ],
   "source": [
    "df.head()"
   ]
  },
  {
   "cell_type": "code",
   "execution_count": 149,
   "id": "e5191712-f5d5-4c40-a736-69338b39fa46",
   "metadata": {},
   "outputs": [
    {
     "data": {
      "text/plain": [
       "anime_id      0\n",
       "name          0\n",
       "genre        62\n",
       "type         25\n",
       "episodes      0\n",
       "rating      230\n",
       "members       0\n",
       "dtype: int64"
      ]
     },
     "execution_count": 149,
     "metadata": {},
     "output_type": "execute_result"
    }
   ],
   "source": [
    "df.isnull().sum()"
   ]
  },
  {
   "cell_type": "code",
   "execution_count": 107,
   "id": "de105497-878c-45b5-b833-cb22e5fd5eab",
   "metadata": {},
   "outputs": [],
   "source": [
    "# There are some null values. I am filling those null values witg h zeroes."
   ]
  },
  {
   "cell_type": "code",
   "execution_count": 153,
   "id": "ecf327c6-a937-4576-95aa-889780c28c0d",
   "metadata": {},
   "outputs": [],
   "source": [
    "# Handle missing values\n",
    "df['genre'] = df['genre'].fillna(\"Unknown\")\n",
    "most_common_type = df['type'].mode()[0]\n",
    "df['type'] = df['type'].fillna(most_common_type)\n",
    "median_rating = df['rating'].median()\n",
    "df['rating'] = df['rating'].fillna(median_rating)\n",
    "df['episodes'] = pd.to_numeric(df['episodes'], errors='coerce')\n",
    "median_episodes_per_type = df.groupby('type')['episodes'].transform('median')\n",
    "df['episodes'] = df['episodes'].fillna(median_episodes_per_type)"
   ]
  },
  {
   "cell_type": "code",
   "execution_count": 155,
   "id": "31c7cd1d-8033-45a3-83ae-11c3c53a168c",
   "metadata": {},
   "outputs": [],
   "source": [
    "# Multi-hot encode genres\n",
    "\n",
    "from sklearn.preprocessing import MultiLabelBinarizer, MinMaxScaler\n",
    "mlb = MultiLabelBinarizer()\n",
    "genre_encoded = mlb.fit_transform(df['genre'].str.split(\", \"))\n",
    "genre_encoded_df = pd.DataFrame(genre_encoded, columns=mlb.classes_)"
   ]
  },
  {
   "cell_type": "code",
   "execution_count": 159,
   "id": "510f9435-b430-4ca8-8015-dd45be830b5e",
   "metadata": {},
   "outputs": [],
   "source": [
    "# Normalize numerical columns\n",
    "\n",
    "scaler = MinMaxScaler()\n",
    "normalized_features = scaler.fit_transform(df[['rating', 'members', 'episodes']])\n",
    "normalized_features_df = pd.DataFrame(normalized_features, columns=['rating', 'members', 'episodes'])"
   ]
  },
  {
   "cell_type": "code",
   "execution_count": 165,
   "id": "8e985f98-9180-4641-bfde-d8763432cd5b",
   "metadata": {},
   "outputs": [
    {
     "data": {
      "text/html": [
       "<div>\n",
       "<style scoped>\n",
       "    .dataframe tbody tr th:only-of-type {\n",
       "        vertical-align: middle;\n",
       "    }\n",
       "\n",
       "    .dataframe tbody tr th {\n",
       "        vertical-align: top;\n",
       "    }\n",
       "\n",
       "    .dataframe thead th {\n",
       "        text-align: right;\n",
       "    }\n",
       "</style>\n",
       "<table border=\"1\" class=\"dataframe\">\n",
       "  <thead>\n",
       "    <tr style=\"text-align: right;\">\n",
       "      <th></th>\n",
       "      <th>Action</th>\n",
       "      <th>Adventure</th>\n",
       "      <th>Cars</th>\n",
       "      <th>Comedy</th>\n",
       "      <th>Dementia</th>\n",
       "      <th>Demons</th>\n",
       "      <th>Drama</th>\n",
       "      <th>Ecchi</th>\n",
       "      <th>Fantasy</th>\n",
       "      <th>Game</th>\n",
       "      <th>...</th>\n",
       "      <th>Super Power</th>\n",
       "      <th>Supernatural</th>\n",
       "      <th>Thriller</th>\n",
       "      <th>Unknown</th>\n",
       "      <th>Vampire</th>\n",
       "      <th>Yaoi</th>\n",
       "      <th>Yuri</th>\n",
       "      <th>rating</th>\n",
       "      <th>members</th>\n",
       "      <th>episodes</th>\n",
       "    </tr>\n",
       "  </thead>\n",
       "  <tbody>\n",
       "    <tr>\n",
       "      <th>0</th>\n",
       "      <td>0</td>\n",
       "      <td>0</td>\n",
       "      <td>0</td>\n",
       "      <td>0</td>\n",
       "      <td>0</td>\n",
       "      <td>0</td>\n",
       "      <td>1</td>\n",
       "      <td>0</td>\n",
       "      <td>0</td>\n",
       "      <td>0</td>\n",
       "      <td>...</td>\n",
       "      <td>0</td>\n",
       "      <td>1</td>\n",
       "      <td>0</td>\n",
       "      <td>0</td>\n",
       "      <td>0</td>\n",
       "      <td>0</td>\n",
       "      <td>0</td>\n",
       "      <td>0.924370</td>\n",
       "      <td>0.197872</td>\n",
       "      <td>0.000000</td>\n",
       "    </tr>\n",
       "    <tr>\n",
       "      <th>1</th>\n",
       "      <td>1</td>\n",
       "      <td>1</td>\n",
       "      <td>0</td>\n",
       "      <td>0</td>\n",
       "      <td>0</td>\n",
       "      <td>0</td>\n",
       "      <td>1</td>\n",
       "      <td>0</td>\n",
       "      <td>1</td>\n",
       "      <td>0</td>\n",
       "      <td>...</td>\n",
       "      <td>0</td>\n",
       "      <td>0</td>\n",
       "      <td>0</td>\n",
       "      <td>0</td>\n",
       "      <td>0</td>\n",
       "      <td>0</td>\n",
       "      <td>0</td>\n",
       "      <td>0.911164</td>\n",
       "      <td>0.782770</td>\n",
       "      <td>0.034673</td>\n",
       "    </tr>\n",
       "    <tr>\n",
       "      <th>2</th>\n",
       "      <td>1</td>\n",
       "      <td>0</td>\n",
       "      <td>0</td>\n",
       "      <td>1</td>\n",
       "      <td>0</td>\n",
       "      <td>0</td>\n",
       "      <td>0</td>\n",
       "      <td>0</td>\n",
       "      <td>0</td>\n",
       "      <td>0</td>\n",
       "      <td>...</td>\n",
       "      <td>0</td>\n",
       "      <td>0</td>\n",
       "      <td>0</td>\n",
       "      <td>0</td>\n",
       "      <td>0</td>\n",
       "      <td>0</td>\n",
       "      <td>0</td>\n",
       "      <td>0.909964</td>\n",
       "      <td>0.112689</td>\n",
       "      <td>0.027518</td>\n",
       "    </tr>\n",
       "    <tr>\n",
       "      <th>3</th>\n",
       "      <td>0</td>\n",
       "      <td>0</td>\n",
       "      <td>0</td>\n",
       "      <td>0</td>\n",
       "      <td>0</td>\n",
       "      <td>0</td>\n",
       "      <td>0</td>\n",
       "      <td>0</td>\n",
       "      <td>0</td>\n",
       "      <td>0</td>\n",
       "      <td>...</td>\n",
       "      <td>0</td>\n",
       "      <td>0</td>\n",
       "      <td>1</td>\n",
       "      <td>0</td>\n",
       "      <td>0</td>\n",
       "      <td>0</td>\n",
       "      <td>0</td>\n",
       "      <td>0.900360</td>\n",
       "      <td>0.664325</td>\n",
       "      <td>0.012658</td>\n",
       "    </tr>\n",
       "    <tr>\n",
       "      <th>4</th>\n",
       "      <td>1</td>\n",
       "      <td>0</td>\n",
       "      <td>0</td>\n",
       "      <td>1</td>\n",
       "      <td>0</td>\n",
       "      <td>0</td>\n",
       "      <td>0</td>\n",
       "      <td>0</td>\n",
       "      <td>0</td>\n",
       "      <td>0</td>\n",
       "      <td>...</td>\n",
       "      <td>0</td>\n",
       "      <td>0</td>\n",
       "      <td>0</td>\n",
       "      <td>0</td>\n",
       "      <td>0</td>\n",
       "      <td>0</td>\n",
       "      <td>0</td>\n",
       "      <td>0.899160</td>\n",
       "      <td>0.149186</td>\n",
       "      <td>0.027518</td>\n",
       "    </tr>\n",
       "  </tbody>\n",
       "</table>\n",
       "<p>5 rows × 47 columns</p>\n",
       "</div>"
      ],
      "text/plain": [
       "   Action  Adventure  Cars  Comedy  Dementia  Demons  Drama  Ecchi  Fantasy  \\\n",
       "0       0          0     0       0         0       0      1      0        0   \n",
       "1       1          1     0       0         0       0      1      0        1   \n",
       "2       1          0     0       1         0       0      0      0        0   \n",
       "3       0          0     0       0         0       0      0      0        0   \n",
       "4       1          0     0       1         0       0      0      0        0   \n",
       "\n",
       "   Game  ...  Super Power  Supernatural  Thriller  Unknown  Vampire  Yaoi  \\\n",
       "0     0  ...            0             1         0        0        0     0   \n",
       "1     0  ...            0             0         0        0        0     0   \n",
       "2     0  ...            0             0         0        0        0     0   \n",
       "3     0  ...            0             0         1        0        0     0   \n",
       "4     0  ...            0             0         0        0        0     0   \n",
       "\n",
       "   Yuri    rating   members  episodes  \n",
       "0     0  0.924370  0.197872  0.000000  \n",
       "1     0  0.911164  0.782770  0.034673  \n",
       "2     0  0.909964  0.112689  0.027518  \n",
       "3     0  0.900360  0.664325  0.012658  \n",
       "4     0  0.899160  0.149186  0.027518  \n",
       "\n",
       "[5 rows x 47 columns]"
      ]
     },
     "execution_count": 165,
     "metadata": {},
     "output_type": "execute_result"
    }
   ],
   "source": [
    "# Combine all features for similarity\n",
    "\n",
    "features_df = pd.concat([genre_encoded_df, normalized_features_df], axis=1)\n",
    "features_df.head()"
   ]
  },
  {
   "cell_type": "code",
   "execution_count": 171,
   "id": "4dfdca1a-c942-4a07-86fa-81b37c4b82d0",
   "metadata": {},
   "outputs": [
    {
     "name": "stdout",
     "output_type": "stream",
     "text": [
      "Recommended Anime: ['Wind: A Breath of Heart OVA', 'Wind: A Breath of Heart (TV)', 'Aura: Maryuuin Kouga Saigo no Tatakai', 'Clannad: After Story - Mou Hitotsu no Sekai, Kyou-hen', 'Kokoro ga Sakebitagatterunda.']\n"
     ]
    }
   ],
   "source": [
    "# Function to recommend anime\n",
    "from sklearn.metrics.pairwise import cosine_similarity\n",
    "\n",
    "def recommend_anime(target_anime_name, anime_data, features_df, top_n=5):\n",
    "    # Find the index of the target anime\n",
    "    target_index = anime_data[anime_data['name'] == target_anime_name].index[0]\n",
    "     \n",
    "    # Compute cosine similarity\n",
    "    similarity = cosine_similarity(features_df)\n",
    "    \n",
    "    # Get similarity scores for the target anime\n",
    "    similarity_scores = list(enumerate(similarity[target_index]))\n",
    "    \n",
    "    # Sort by similarity score in descending order\n",
    "    sorted_scores = sorted(similarity_scores, key=lambda x: x[1], reverse=True)\n",
    "    \n",
    "    #Recommend top_n anime\n",
    "    top_recommendations = sorted_scores[1:top_n+1]\n",
    "    recommended_anime = [anime_data.iloc[i[0]]['name'] for i in top_recommendations]\n",
    "    \n",
    "    return recommended_anime\n",
    "\n",
    "# Example: Recommend similar anime for \"Kimi no Na wa.\"\n",
    "recommendations = recommend_anime(\"Kimi no Na wa.\", df, features_df, top_n=5)\n",
    "print(\"Recommended Anime:\", recommendations)"
   ]
  },
  {
   "cell_type": "code",
   "execution_count": 181,
   "id": "3434421e-d12a-449b-ad8d-6c3e6f76b386",
   "metadata": {},
   "outputs": [],
   "source": [
    "from sklearn.model_selection import train_test_split\n",
    "import numpy as np\n",
    "\n",
    "# Split data into train and test sets\n",
    "train_data, test_data = train_test_split(df, test_size=0.2, random_state=42)\n",
    "\n",
    "# Recompute features for train data\n",
    "train_genre_encoded = mlb.fit_transform(train_data['genre'].str.split(\", \"))\n",
    "train_genre_encoded_df = pd.DataFrame(train_genre_encoded, columns=mlb.classes_)\n",
    "train_normalized_features = scaler.fit_transform(train_data[['rating', 'members', 'episodes']])\n",
    "train_normalized_features_df = pd.DataFrame(train_normalized_features, columns=['rating', 'members', 'episodes'])\n",
    "train_features_df = pd.concat([train_genre_encoded_df, train_normalized_features_df], axis=1)"
   ]
  },
  {
   "cell_type": "code",
   "execution_count": 183,
   "id": "cb7ab7ee-41ab-4b75-aaf6-bc314af91194",
   "metadata": {},
   "outputs": [],
   "source": [
    "# Initialize lists to store precision and recall values\n",
    "precision_list = []\n",
    "recall_list = []"
   ]
  },
  {
   "cell_type": "code",
   "execution_count": 185,
   "id": "d34b6e4e-b731-4e3d-9dd5-9403fff365f1",
   "metadata": {},
   "outputs": [],
   "source": [
    "# Evaluate the recommendation system\n",
    "for test_anime in test_data['name'].head(10):  # Limit to a subset for faster evaluation\n",
    "    try:\n",
    "        recommended = recommend_anime(test_anime, train_data, train_features_df, top_n=5)\n",
    "        actual_genres = set(test_data[test_data['name'] == test_anime]['genre'].iloc[0].split(\", \"))\n",
    "        \n",
    "        # Get genres for recommended anime\n",
    "        recommended_genres = set(\n",
    "            anime_data[df['name'].isin(recommended)]['genre']\n",
    "            .str.split(\", \")\n",
    "            .explode()\n",
    "        )\n",
    "        \n",
    "        # Calculate the intersection of genres\n",
    "        intersection = len(actual_genres & recommended_genres)\n",
    "        \n",
    "        # Avoid division by zero for precision and recall\n",
    "        precision = intersection / len(recommended_genres) if len(recommended_genres) > 0 else 0\n",
    "        recall = intersection / len(actual_genres) if len(actual_genres) > 0 else 0\n",
    "        \n",
    "        precision_list.append(precision)\n",
    "        recall_list.append(recall)\n",
    "    except IndexError:\n",
    "        continue"
   ]
  },
  {
   "cell_type": "code",
   "execution_count": 187,
   "id": "34fb5625-f8c2-4ab0-878f-4cea6ec82f03",
   "metadata": {},
   "outputs": [
    {
     "name": "stdout",
     "output_type": "stream",
     "text": [
      "Precision: 0.00, Recall: 0.00, F1 Score: 0.00\n"
     ]
    }
   ],
   "source": [
    "# Calculate average metrics\n",
    "avg_precision = np.mean(precision_list) if precision_list else 0\n",
    "avg_recall = np.mean(recall_list) if recall_list else 0\n",
    "f1_score = 2 * (avg_precision * avg_recall) / (avg_precision + avg_recall) if (avg_precision + avg_recall) > 0 else 0\n",
    "\n",
    "# Print results\n",
    "print(f\"Precision: {avg_precision:.2f}, Recall: {avg_recall:.2f}, F1 Score: {f1_score:.2f}\")"
   ]
  },
  {
   "cell_type": "code",
   "execution_count": 1,
   "id": "974543f6-d37d-4a02-a5fc-2580a386466f",
   "metadata": {},
   "outputs": [
    {
     "data": {
      "text/plain": [
       "'\\nObservations:\\n\\nPrecision:\\n   A low precision value suggests the system is recommending many irrelevant anime. This could be due to:\\n   Overweighting of less relevant features (e.g., members, episodes).\\n   Insufficient granularity in genre matching (e.g., multiple genres sharing partial overlap).\\n\\nRecall:\\n   A low recall value indicates the system is failing to recommend a significant number of relevant anime.\\nCauses:\\n   Highly specific genre combinations (e.g., action + romance + supernatural) are not matched well.\\n   Popular anime dominating recommendations, reducing diversity.\\n\\nF1-Score:\\n   A low F1-score reflects the combined effect of poor precision and recall.\\n   Indicates the need to improve both relevance and completeness of recommendations.\\n'"
      ]
     },
     "execution_count": 1,
     "metadata": {},
     "output_type": "execute_result"
    }
   ],
   "source": [
    "'''\n",
    "Observations:\n",
    "\n",
    "Precision:\n",
    "   A low precision value suggests the system is recommending many irrelevant anime. This could be due to:\n",
    "   Overweighting of less relevant features (e.g., members, episodes).\n",
    "   Insufficient granularity in genre matching (e.g., multiple genres sharing partial overlap).\n",
    "\n",
    "Recall:\n",
    "   A low recall value indicates the system is failing to recommend a significant number of relevant anime.\n",
    "Causes:\n",
    "   Highly specific genre combinations (e.g., action + romance + supernatural) are not matched well.\n",
    "   Popular anime dominating recommendations, reducing diversity.\n",
    "\n",
    "F1-Score:\n",
    "   A low F1-score reflects the combined effect of poor precision and recall.\n",
    "   Indicates the need to improve both relevance and completeness of recommendations.\n",
    "'''"
   ]
  },
  {
   "cell_type": "markdown",
   "id": "515406d0-8292-43e0-96c6-74bfa4103f70",
   "metadata": {},
   "source": [
    "Interview Questions:"
   ]
  },
  {
   "cell_type": "code",
   "execution_count": null,
   "id": "a9813d17-6992-4f4c-9360-d2d14fa796a3",
   "metadata": {},
   "outputs": [],
   "source": [
    "'''\n",
    "1. Can you explain the difference between user-based and item-based collaborative filtering?\n",
    "User-based Collaborative Filtering: This method finds users with similar preferences (user-user similarity) based on \n",
    "    their ratings or interactions. It recommends items that similar users have liked. For example, if User A and User B have similar tastes,\n",
    "    User A will be recommended items liked by User B.\n",
    "Item-based Collaborative Filtering: This approach identifies items that are similar (item-item similarity) based on\n",
    "    how users interact with them. It recommends items similar to those the user has previously liked. For instance, \n",
    "    if two movies are often liked together, recommending one suggests the other.\n",
    "\n",
    "2. What is collaborative filtering, and how does it work?\n",
    "Collaborative filtering is a recommendation system technique that suggests items based on user interactions or preferences. \n",
    "It operates by leveraging the collective behavior of a group of users to make recommendations.\n",
    "How it Works:\n",
    "      Collaborative filtering identifies patterns in user-item interactions, such as ratings, clicks, or purchases.\n",
    "User-based: Finds users with similar preferences and recommends items they liked.\n",
    "Item-based: Identifies similar items based on user interactions and suggests items similar to those the user engaged with.\n",
    "It assumes that users with similar past behaviors will have similar future preferences. No prior item information is required, \n",
    "making it domain-independent.\n",
    "'''"
   ]
  }
 ],
 "metadata": {
  "kernelspec": {
   "display_name": "Python 3 (ipykernel)",
   "language": "python",
   "name": "python3"
  },
  "language_info": {
   "codemirror_mode": {
    "name": "ipython",
    "version": 3
   },
   "file_extension": ".py",
   "mimetype": "text/x-python",
   "name": "python",
   "nbconvert_exporter": "python",
   "pygments_lexer": "ipython3",
   "version": "3.11.5"
  }
 },
 "nbformat": 4,
 "nbformat_minor": 5
}
